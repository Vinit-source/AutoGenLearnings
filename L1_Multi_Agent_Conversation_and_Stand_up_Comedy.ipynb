{
  "cells": [
    {
      "cell_type": "markdown",
      "metadata": {
        "id": "view-in-github",
        "colab_type": "text"
      },
      "source": [
        "<a href=\"https://colab.research.google.com/github/Vinit-source/AutoGenLearnings/blob/main/L1_Multi_Agent_Conversation_and_Stand_up_Comedy.ipynb\" target=\"_parent\"><img src=\"https://colab.research.google.com/assets/colab-badge.svg\" alt=\"Open In Colab\"/></a>"
      ]
    },
    {
      "cell_type": "markdown",
      "id": "a81456dd",
      "metadata": {
        "id": "a81456dd"
      },
      "source": [
        "# Lesson 1: Multi-Agent Conversation and Stand-up Comedy"
      ]
    },
    {
      "cell_type": "markdown",
      "id": "4693467e",
      "metadata": {
        "id": "4693467e"
      },
      "source": [
        "Welcome to Lesson 1.\n",
        "\n",
        "To access the `requirements.txt` file and the`utils` modules, please go to the `File` menu and select`Open...`.\n",
        "\n",
        "I hope you enjoy this course!"
      ]
    },
    {
      "cell_type": "markdown",
      "id": "742cf649",
      "metadata": {
        "id": "742cf649"
      },
      "source": [
        "## Setup"
      ]
    },
    {
      "cell_type": "code",
      "execution_count": null,
      "id": "04d006c1-22fa-40ea-b3e0-d543142e0788",
      "metadata": {
        "height": 64,
        "id": "04d006c1-22fa-40ea-b3e0-d543142e0788"
      },
      "outputs": [],
      "source": [
        "from utils import get_openai_api_key\n",
        "OPENAI_API_KEY = get_openai_api_key()\n",
        "llm_config = {\"model\": \"gpt-3.5-turbo\"}"
      ]
    },
    {
      "cell_type": "markdown",
      "id": "116a1c4d",
      "metadata": {
        "id": "116a1c4d"
      },
      "source": [
        "## Define an AutoGen agent"
      ]
    },
    {
      "cell_type": "code",
      "execution_count": null,
      "id": "6fb8c441-c58c-41a8-a54b-5c387afceac5",
      "metadata": {
        "height": 132,
        "id": "6fb8c441-c58c-41a8-a54b-5c387afceac5"
      },
      "outputs": [],
      "source": [
        "from autogen import ConversableAgent\n",
        "\n",
        "agent = ConversableAgent(\n",
        "    name=\"chatbot\",\n",
        "    llm_config=llm_config,\n",
        "    human_input_mode=\"NEVER\",\n",
        ")"
      ]
    },
    {
      "cell_type": "code",
      "execution_count": null,
      "id": "47886b5f-fc7c-431a-8036-cff6e88f85c6",
      "metadata": {
        "height": 81,
        "id": "47886b5f-fc7c-431a-8036-cff6e88f85c6",
        "outputId": "f9f2d017-fc37-416a-9697-ffe3dfe67f25"
      },
      "outputs": [
        {
          "name": "stdout",
          "output_type": "stream",
          "text": [
            "Why did the scarecrow win an award? Because he was outstanding in his field!\n"
          ]
        }
      ],
      "source": [
        "reply = agent.generate_reply(\n",
        "    messages=[{\"content\": \"Tell me a joke.\", \"role\": \"user\"}]\n",
        ")\n",
        "print(reply)"
      ]
    },
    {
      "cell_type": "code",
      "execution_count": null,
      "id": "67f626e9-4cec-40c1-abde-2eff1252b848",
      "metadata": {
        "height": 81,
        "id": "67f626e9-4cec-40c1-abde-2eff1252b848",
        "outputId": "7507a26d-141b-4cb3-d40b-b44d73f24b05"
      },
      "outputs": [
        {
          "name": "stdout",
          "output_type": "stream",
          "text": [
            "Of course! Please let me know which joke you would like me to repeat.\n"
          ]
        }
      ],
      "source": [
        "reply = agent.generate_reply(\n",
        "    messages=[{\"content\": \"Repeat the joke.\", \"role\": \"user\"}]\n",
        ")\n",
        "print(reply)"
      ]
    },
    {
      "cell_type": "markdown",
      "id": "8c98a301",
      "metadata": {
        "id": "8c98a301"
      },
      "source": [
        "## Conversation\n",
        "\n",
        "Setting up a conversation between two agents, Cathy and Joe, where the memory of their interactions is retained."
      ]
    },
    {
      "cell_type": "code",
      "execution_count": null,
      "id": "8f109dcb-824e-40d7-8e86-efee42b75f3c",
      "metadata": {
        "height": 285,
        "id": "8f109dcb-824e-40d7-8e86-efee42b75f3c"
      },
      "outputs": [],
      "source": [
        "cathy = ConversableAgent(\n",
        "    name=\"cathy\",\n",
        "    system_message=\n",
        "    \"Your name is Cathy and you are a stand-up comedian.\",\n",
        "    llm_config=llm_config,\n",
        "    human_input_mode=\"NEVER\",\n",
        ")\n",
        "\n",
        "joe = ConversableAgent(\n",
        "    name=\"joe\",\n",
        "    system_message=\n",
        "    \"Your name is Joe and you are a stand-up comedian. \"\n",
        "    \"Start the next joke from the punchline of the previous joke.\",\n",
        "    llm_config=llm_config,\n",
        "    human_input_mode=\"NEVER\",\n",
        ")"
      ]
    },
    {
      "cell_type": "markdown",
      "id": "43f71a61",
      "metadata": {
        "id": "43f71a61"
      },
      "source": [
        "**Note**: You might get a slightly different response (set of jokes) than what is shown in the video"
      ]
    },
    {
      "cell_type": "code",
      "execution_count": null,
      "id": "46a1c6f6-687e-40de-8819-374201cfed9f",
      "metadata": {
        "height": 98,
        "id": "46a1c6f6-687e-40de-8819-374201cfed9f",
        "outputId": "50b10fd6-68cf-4555-c650-45909cf798dc"
      },
      "outputs": [
        {
          "name": "stdout",
          "output_type": "stream",
          "text": [
            "\u001b[33mjoe\u001b[0m (to cathy):\n",
            "\n",
            "I'm Joe. Cathy, let's keep the jokes rolling.\n",
            "\n",
            "--------------------------------------------------------------------------------\n",
            "\u001b[33mcathy\u001b[0m (to joe):\n",
            "\n",
            "Hey Joe! What do you call it when a snowman has a temper tantrum? A meltdown!\n",
            "\n",
            "--------------------------------------------------------------------------------\n",
            "\u001b[33mjoe\u001b[0m (to cathy):\n",
            "\n",
            "Haha, that snowman needs to chill out!\n",
            "\n",
            "--------------------------------------------------------------------------------\n",
            "\u001b[33mcathy\u001b[0m (to joe):\n",
            "\n",
            "He really does! Maybe he just needs to let it go. But hey Joe, did you hear about the actor who fell through the floorboards during his audition?  He was just going for a small part!\n",
            "\n",
            "--------------------------------------------------------------------------------\n"
          ]
        }
      ],
      "source": [
        "chat_result = joe.initiate_chat(\n",
        "    recipient=cathy,\n",
        "    message=\"I'm Joe. Cathy, let's keep the jokes rolling.\",\n",
        "    max_turns=2,\n",
        ")"
      ]
    },
    {
      "cell_type": "markdown",
      "id": "78edc810",
      "metadata": {
        "id": "78edc810"
      },
      "source": [
        "## Print some results\n",
        "\n",
        "You can print out:\n",
        "\n",
        "1. Chat history\n",
        "2. Cost\n",
        "3. Summary of the conversation"
      ]
    },
    {
      "cell_type": "code",
      "execution_count": null,
      "id": "1169ea24-eadd-4909-8d56-9b7ec5677c66",
      "metadata": {
        "height": 64,
        "id": "1169ea24-eadd-4909-8d56-9b7ec5677c66",
        "outputId": "6f93f3c7-4466-4aa4-c09b-857c0f0a0ec4"
      },
      "outputs": [
        {
          "name": "stdout",
          "output_type": "stream",
          "text": [
            "[{'content': \"I'm Joe. Cathy, let's keep the jokes rolling.\",\n",
            "  'role': 'assistant'},\n",
            " {'content': 'Hey Joe! What do you call it when a snowman has a temper '\n",
            "             'tantrum? A meltdown!',\n",
            "  'role': 'user'},\n",
            " {'content': 'Haha, that snowman needs to chill out!', 'role': 'assistant'},\n",
            " {'content': 'He really does! Maybe he just needs to let it go. But hey Joe, '\n",
            "             'did you hear about the actor who fell through the floorboards '\n",
            "             'during his audition?  He was just going for a small part!',\n",
            "  'role': 'user'}]\n"
          ]
        }
      ],
      "source": [
        "import pprint\n",
        "\n",
        "pprint.pprint(chat_result.chat_history)"
      ]
    },
    {
      "cell_type": "code",
      "execution_count": null,
      "id": "550267b6-3652-40dc-9997-c5401f6d4c47",
      "metadata": {
        "height": 30,
        "id": "550267b6-3652-40dc-9997-c5401f6d4c47",
        "outputId": "ef1863b8-6bb9-4abb-b533-61b0c4d04e94"
      },
      "outputs": [
        {
          "name": "stdout",
          "output_type": "stream",
          "text": [
            "{'usage_excluding_cached_inference': {'gpt-3.5-turbo-0125': {'completion_tokens': 75,\n",
            "                                                             'cost': 0.0002055,\n",
            "                                                             'prompt_tokens': 186,\n",
            "                                                             'total_tokens': 261},\n",
            "                                      'total_cost': 0.0002055},\n",
            " 'usage_including_cached_inference': {'gpt-3.5-turbo-0125': {'completion_tokens': 75,\n",
            "                                                             'cost': 0.0002055,\n",
            "                                                             'prompt_tokens': 186,\n",
            "                                                             'total_tokens': 261},\n",
            "                                      'total_cost': 0.0002055}}\n"
          ]
        }
      ],
      "source": [
        "pprint.pprint(chat_result.cost)"
      ]
    },
    {
      "cell_type": "code",
      "execution_count": null,
      "id": "dfcf468e-d217-4731-8cb4-3485377230f1",
      "metadata": {
        "height": 30,
        "id": "dfcf468e-d217-4731-8cb4-3485377230f1",
        "outputId": "a38b41a8-e848-4890-88b8-638fb12a86e4"
      },
      "outputs": [
        {
          "name": "stdout",
          "output_type": "stream",
          "text": [
            "('He really does! Maybe he just needs to let it go. But hey Joe, did you hear '\n",
            " 'about the actor who fell through the floorboards during his audition?  He '\n",
            " 'was just going for a small part!')\n"
          ]
        }
      ],
      "source": [
        "pprint.pprint(chat_result.summary)"
      ]
    },
    {
      "cell_type": "markdown",
      "id": "ba8c6cf8",
      "metadata": {
        "id": "ba8c6cf8"
      },
      "source": [
        "## Get a better summary of the conversation"
      ]
    },
    {
      "cell_type": "code",
      "execution_count": null,
      "id": "c1a8fef1-8030-4652-a2d2-1648834f62c2",
      "metadata": {
        "height": 183,
        "id": "c1a8fef1-8030-4652-a2d2-1648834f62c2",
        "outputId": "888d9142-b393-47da-fe18-beab6758f693"
      },
      "outputs": [
        {
          "name": "stdout",
          "output_type": "stream",
          "text": [
            "\u001b[33mjoe\u001b[0m (to cathy):\n",
            "\n",
            "I'm Joe. Cathy, let's keep the jokes rolling.\n",
            "\n",
            "--------------------------------------------------------------------------------\n",
            "\u001b[33mcathy\u001b[0m (to joe):\n",
            "\n",
            "Hey Joe! What do you call it when a snowman has a temper tantrum? A meltdown!\n",
            "\n",
            "--------------------------------------------------------------------------------\n",
            "\u001b[33mjoe\u001b[0m (to cathy):\n",
            "\n",
            "Haha, that snowman needs to chill out!\n",
            "\n",
            "--------------------------------------------------------------------------------\n",
            "\u001b[33mcathy\u001b[0m (to joe):\n",
            "\n",
            "He really does! Maybe he just needs to let it go. But hey Joe, did you hear about the actor who fell through the floorboards during his audition?  He was just going for a small part!\n",
            "\n",
            "--------------------------------------------------------------------------------\n"
          ]
        }
      ],
      "source": [
        "chat_result = joe.initiate_chat(\n",
        "    cathy,\n",
        "    message=\"I'm Joe. Cathy, let's keep the jokes rolling.\",\n",
        "    max_turns=2,\n",
        "    summary_method=\"reflection_with_llm\",\n",
        "    summary_prompt=\"Summarize the conversation\",\n",
        ")\n",
        "\n",
        "// Same messages will appear because caching is \\\n",
        "// being used somewhere to generate same message on the same input."
      ]
    },
    {
      "cell_type": "code",
      "execution_count": null,
      "id": "b042de62-bc49-49ee-99f2-4f972e23670b",
      "metadata": {
        "height": 30,
        "id": "b042de62-bc49-49ee-99f2-4f972e23670b",
        "outputId": "81f6c791-585f-4568-86ed-3d63fa55f9b1"
      },
      "outputs": [
        {
          "name": "stdout",
          "output_type": "stream",
          "text": [
            "('The conversation consists of Joe and Cathy sharing punny jokes with each '\n",
            " 'other.')\n"
          ]
        }
      ],
      "source": [
        "pprint.pprint(chat_result.summary)"
      ]
    },
    {
      "cell_type": "markdown",
      "id": "300525bd",
      "metadata": {
        "id": "300525bd"
      },
      "source": [
        "## Chat Termination\n",
        "\n",
        "Chat can be terminated using a termination conditions."
      ]
    },
    {
      "cell_type": "code",
      "execution_count": null,
      "id": "044dfd61-7f1d-46d8-9e28-4b2601b43d70",
      "metadata": {
        "height": 421,
        "id": "044dfd61-7f1d-46d8-9e28-4b2601b43d70"
      },
      "outputs": [],
      "source": [
        "cathy = ConversableAgent(\n",
        "    name=\"cathy\",\n",
        "    system_message=\n",
        "    \"Your name is Cathy and you are a stand-up comedian. \"\n",
        "    \"When you're ready to end the conversation, say 'I gotta go'.\",\n",
        "    llm_config=llm_config,\n",
        "    human_input_mode=\"NEVER\",\n",
        "    is_termination_msg=lambda msg: \"I gotta go\" in msg[\"content\"],\n",
        ")\n",
        "\n",
        "joe = ConversableAgent(\n",
        "    name=\"joe\",\n",
        "    system_message=\n",
        "    \"Your name is Joe and you are a stand-up comedian. \"\n",
        "    \"When you're ready to end the conversation, say 'I gotta go'.\",\n",
        "    llm_config=llm_config,\n",
        "    human_input_mode=\"NEVER\",\n",
        "    is_termination_msg=lambda msg: \"I gotta go\" in msg[\"content\"] or \"Goodbye\" in msg[\"content\"],\n",
        ")\n",
        "\n",
        "// This is_termination_msg is a Boolean\n",
        "// fn given to each agent. With it, the\n",
        "// agent will stop replying if it notices\n",
        "// the string in the conversation."
      ]
    },
    {
      "cell_type": "code",
      "execution_count": null,
      "id": "bc49d959-1025-4709-8866-9d4035eaeae7",
      "metadata": {
        "height": 81,
        "id": "bc49d959-1025-4709-8866-9d4035eaeae7",
        "outputId": "89adc35c-bf46-4a19-a0c9-c76418c019bd"
      },
      "outputs": [
        {
          "name": "stdout",
          "output_type": "stream",
          "text": [
            "\u001b[33mjoe\u001b[0m (to cathy):\n",
            "\n",
            "I'm Joe. Cathy, let's keep the jokes rolling.\n",
            "\n",
            "--------------------------------------------------------------------------------\n",
            "\u001b[33mcathy\u001b[0m (to joe):\n",
            "\n",
            "Hey Joe, glad you're enjoying the jokes! How about this one: Why don't scientists trust atoms? Because they make up everything!\n",
            "\n",
            "--------------------------------------------------------------------------------\n",
            "\u001b[33mjoe\u001b[0m (to cathy):\n",
            "\n",
            "Haha, classic science joke! Here's one for you: Why did the scarecrow win an award? Because he was outstanding in his field!\n",
            "\n",
            "--------------------------------------------------------------------------------\n",
            "\u001b[33mcathy\u001b[0m (to joe):\n",
            "\n",
            "Haha, I love a good scarecrow joke! Here's another one for you: How does a penguin build its house? Igloos it together!\n",
            "\n",
            "--------------------------------------------------------------------------------\n",
            "\u001b[33mjoe\u001b[0m (to cathy):\n",
            "\n",
            "Haha, that's a chilly one! Here's one more for you: Why did the math book look sad? Because it had too many problems.\n",
            "\n",
            "--------------------------------------------------------------------------------\n",
            "\u001b[33mcathy\u001b[0m (to joe):\n",
            "\n",
            "Haha, poor math book! Here's one more for you: Why did the tomato turn red? Because it saw the salad dressing!\n",
            "\n",
            "--------------------------------------------------------------------------------\n",
            "\u001b[33mjoe\u001b[0m (to cathy):\n",
            "\n",
            "Haha, that one's saucy! Thanks for the laughs, Cathy. I gotta go.\n",
            "\n",
            "--------------------------------------------------------------------------------\n"
          ]
        }
      ],
      "source": [
        "chat_result = joe.initiate_chat(\n",
        "    recipient=cathy,\n",
        "    message=\"I'm Joe. Cathy, let's keep the jokes rolling.\"\n",
        ")"
      ]
    },
    {
      "cell_type": "code",
      "execution_count": null,
      "id": "846eccbd-efd1-464b-9385-279c19b17c1d",
      "metadata": {
        "height": 30,
        "id": "846eccbd-efd1-464b-9385-279c19b17c1d",
        "outputId": "c1ce0660-6a6d-4e7b-fa75-619f7052a39d"
      },
      "outputs": [
        {
          "name": "stdout",
          "output_type": "stream",
          "text": [
            "\u001b[33mcathy\u001b[0m (to joe):\n",
            "\n",
            "What's last joke we talked about?\n",
            "\n",
            "--------------------------------------------------------------------------------\n",
            "\u001b[33mjoe\u001b[0m (to cathy):\n",
            "\n",
            "The last joke we talked about was \"Why did the tomato turn red? Because it saw the salad dressing!\"\n",
            "\n",
            "--------------------------------------------------------------------------------\n",
            "\u001b[33mcathy\u001b[0m (to joe):\n",
            "\n",
            "Great, thank you for the laughs, Joe! Have a wonderful day. And remember, if life gives you tomatoes, just add salad dressing!\n",
            "\n",
            "--------------------------------------------------------------------------------\n",
            "\u001b[33mjoe\u001b[0m (to cathy):\n",
            "\n",
            "Haha, I'll remember that advice! Thanks, Cathy. Have a great day too!\n",
            "\n",
            "--------------------------------------------------------------------------------\n",
            "\u001b[33mcathy\u001b[0m (to joe):\n",
            "\n",
            "I gotta go.\n",
            "\n",
            "--------------------------------------------------------------------------------\n"
          ]
        }
      ],
      "source": [
        "cathy.send(message=\"What's last joke we talked about?\", recipient=joe)"
      ]
    }
  ],
  "metadata": {
    "kernelspec": {
      "display_name": "Python 3 (ipykernel)",
      "language": "python",
      "name": "python3"
    },
    "language_info": {
      "codemirror_mode": {
        "name": "ipython",
        "version": 3
      },
      "file_extension": ".py",
      "mimetype": "text/x-python",
      "name": "python",
      "nbconvert_exporter": "python",
      "pygments_lexer": "ipython3",
      "version": "3.11.9"
    },
    "colab": {
      "provenance": [],
      "include_colab_link": true
    }
  },
  "nbformat": 4,
  "nbformat_minor": 5
}